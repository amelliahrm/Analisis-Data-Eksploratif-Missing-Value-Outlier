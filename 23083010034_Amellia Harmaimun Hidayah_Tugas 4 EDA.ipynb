{
 "cells": [
  {
   "cell_type": "code",
   "execution_count": null,
   "id": "f638b5f6-d2a6-49d2-89da-5808448a88fc",
   "metadata": {},
   "outputs": [],
   "source": [
    "Amellia Harmaimun Hidayah | 23083010034\n",
    "\n",
    "Tugas EDA Missing Value, Outlier, dan Transformasi Data \n",
    "\n",
    "A083"
   ]
  },
  {
   "cell_type": "markdown",
   "id": "dc988238-982a-4571-a815-774909be90d6",
   "metadata": {},
   "source": [
    "## Import Data "
   ]
  },
  {
   "cell_type": "code",
   "execution_count": 7,
   "id": "a66b8340-8424-44d3-acae-dc9a35bda62e",
   "metadata": {
    "tags": []
   },
   "outputs": [],
   "source": [
    "import pandas as pd\n",
    "import numpy as np\n",
    "import seaborn as sns\n",
    "import matplotlib.pyplot as plt\n",
    "from sklearn.preprocessing import MinMaxScaler"
   ]
  },
  {
   "cell_type": "code",
   "execution_count": 8,
   "id": "c81a5e4d-13fc-48e7-8b6d-25ea907aae24",
   "metadata": {
    "tags": []
   },
   "outputs": [
    {
     "data": {
      "text/html": [
       "<div>\n",
       "<style scoped>\n",
       "    .dataframe tbody tr th:only-of-type {\n",
       "        vertical-align: middle;\n",
       "    }\n",
       "\n",
       "    .dataframe tbody tr th {\n",
       "        vertical-align: top;\n",
       "    }\n",
       "\n",
       "    .dataframe thead th {\n",
       "        text-align: right;\n",
       "    }\n",
       "</style>\n",
       "<table border=\"1\" class=\"dataframe\">\n",
       "  <thead>\n",
       "    <tr style=\"text-align: right;\">\n",
       "      <th></th>\n",
       "      <th>show_id</th>\n",
       "      <th>type</th>\n",
       "      <th>title</th>\n",
       "      <th>director</th>\n",
       "      <th>cast</th>\n",
       "      <th>country</th>\n",
       "      <th>date_added</th>\n",
       "      <th>release_year</th>\n",
       "      <th>rating</th>\n",
       "      <th>duration</th>\n",
       "      <th>listed_in</th>\n",
       "      <th>description</th>\n",
       "    </tr>\n",
       "  </thead>\n",
       "  <tbody>\n",
       "    <tr>\n",
       "      <th>0</th>\n",
       "      <td>s1</td>\n",
       "      <td>Movie</td>\n",
       "      <td>Duck the Halls: A Mickey Mouse Christmas Special</td>\n",
       "      <td>Alonso Ramirez Ramos, Dave Wasson</td>\n",
       "      <td>Chris Diamantopoulos, Tony Anselmo, Tress MacN...</td>\n",
       "      <td>NaN</td>\n",
       "      <td>26-Nov-21</td>\n",
       "      <td>2016</td>\n",
       "      <td>TV-G</td>\n",
       "      <td>23 min</td>\n",
       "      <td>Animation, Family</td>\n",
       "      <td>Join Mickey and the gang as they duck the halls!</td>\n",
       "    </tr>\n",
       "    <tr>\n",
       "      <th>1</th>\n",
       "      <td>s2</td>\n",
       "      <td>Movie</td>\n",
       "      <td>Ernest Saves Christmas</td>\n",
       "      <td>John Cherry</td>\n",
       "      <td>Jim Varney, Noelle Parker, Douglas Seale</td>\n",
       "      <td>NaN</td>\n",
       "      <td>26-Nov-21</td>\n",
       "      <td>1988</td>\n",
       "      <td>PG</td>\n",
       "      <td>91 min</td>\n",
       "      <td>Comedy</td>\n",
       "      <td>Santa Claus passes his magic bag to a new St. ...</td>\n",
       "    </tr>\n",
       "    <tr>\n",
       "      <th>2</th>\n",
       "      <td>s3</td>\n",
       "      <td>Movie</td>\n",
       "      <td>Ice Age: A Mammoth Christmas</td>\n",
       "      <td>Karen Disher</td>\n",
       "      <td>Raymond Albert Romano, John Leguizamo, Denis L...</td>\n",
       "      <td>United States</td>\n",
       "      <td>26-Nov-21</td>\n",
       "      <td>2011</td>\n",
       "      <td>TV-G</td>\n",
       "      <td>23 min</td>\n",
       "      <td>Animation, Comedy, Family</td>\n",
       "      <td>Sid the Sloth is on Santa's naughty list.</td>\n",
       "    </tr>\n",
       "    <tr>\n",
       "      <th>3</th>\n",
       "      <td>s4</td>\n",
       "      <td>Movie</td>\n",
       "      <td>The Queen Family Singalong</td>\n",
       "      <td>Hamish Hamilton</td>\n",
       "      <td>Darren Criss, Adam Lambert, Derek Hough, Alexa...</td>\n",
       "      <td>NaN</td>\n",
       "      <td>26-Nov-21</td>\n",
       "      <td>2021</td>\n",
       "      <td>TV-PG</td>\n",
       "      <td>41 min</td>\n",
       "      <td>Musical</td>\n",
       "      <td>This is real life, not just fantasy!</td>\n",
       "    </tr>\n",
       "    <tr>\n",
       "      <th>4</th>\n",
       "      <td>s5</td>\n",
       "      <td>TV Show</td>\n",
       "      <td>The Beatles: Get Back</td>\n",
       "      <td>NaN</td>\n",
       "      <td>John Lennon, Paul McCartney, George Harrison, ...</td>\n",
       "      <td>NaN</td>\n",
       "      <td>25-Nov-21</td>\n",
       "      <td>2021</td>\n",
       "      <td>NaN</td>\n",
       "      <td>1 Season</td>\n",
       "      <td>Docuseries, Historical, Music</td>\n",
       "      <td>A three-part documentary from Peter Jackson ca...</td>\n",
       "    </tr>\n",
       "  </tbody>\n",
       "</table>\n",
       "</div>"
      ],
      "text/plain": [
       "  show_id     type                                             title  \\\n",
       "0      s1    Movie  Duck the Halls: A Mickey Mouse Christmas Special   \n",
       "1      s2    Movie                            Ernest Saves Christmas   \n",
       "2      s3    Movie                      Ice Age: A Mammoth Christmas   \n",
       "3      s4    Movie                        The Queen Family Singalong   \n",
       "4      s5  TV Show                             The Beatles: Get Back   \n",
       "\n",
       "                            director  \\\n",
       "0  Alonso Ramirez Ramos, Dave Wasson   \n",
       "1                        John Cherry   \n",
       "2                       Karen Disher   \n",
       "3                    Hamish Hamilton   \n",
       "4                                NaN   \n",
       "\n",
       "                                                cast        country  \\\n",
       "0  Chris Diamantopoulos, Tony Anselmo, Tress MacN...            NaN   \n",
       "1           Jim Varney, Noelle Parker, Douglas Seale            NaN   \n",
       "2  Raymond Albert Romano, John Leguizamo, Denis L...  United States   \n",
       "3  Darren Criss, Adam Lambert, Derek Hough, Alexa...            NaN   \n",
       "4  John Lennon, Paul McCartney, George Harrison, ...            NaN   \n",
       "\n",
       "  date_added  release_year rating  duration                      listed_in  \\\n",
       "0  26-Nov-21          2016   TV-G    23 min              Animation, Family   \n",
       "1  26-Nov-21          1988     PG    91 min                         Comedy   \n",
       "2  26-Nov-21          2011   TV-G    23 min      Animation, Comedy, Family   \n",
       "3  26-Nov-21          2021  TV-PG    41 min                        Musical   \n",
       "4  25-Nov-21          2021    NaN  1 Season  Docuseries, Historical, Music   \n",
       "\n",
       "                                         description  \n",
       "0   Join Mickey and the gang as they duck the halls!  \n",
       "1  Santa Claus passes his magic bag to a new St. ...  \n",
       "2          Sid the Sloth is on Santa's naughty list.  \n",
       "3               This is real life, not just fantasy!  \n",
       "4  A three-part documentary from Peter Jackson ca...  "
      ]
     },
     "execution_count": 8,
     "metadata": {},
     "output_type": "execute_result"
    }
   ],
   "source": [
    "df = pd.read_csv (r'D:/tugas amell/SMT 3/ANALISIS DATA EKSPLORATIF/disney_plus_titles.csv')\n",
    "df.head()"
   ]
  },
  {
   "cell_type": "raw",
   "id": "f9531321-e41e-4518-8121-62f3e5a38fb5",
   "metadata": {},
   "source": [
    "Kode diatas memuat dataset dari file CSV (disney_plus_titles.csv) yang berisikan data dari judul, film, dan acara yang ada di Disney+. Dataset ini disimpan kedalam variabel df yaitu bentuknya DataFrame."
   ]
  },
  {
   "cell_type": "code",
   "execution_count": 9,
   "id": "c624f437-7ecd-4440-a96d-b57761a982b4",
   "metadata": {
    "tags": []
   },
   "outputs": [
    {
     "name": "stdout",
     "output_type": "stream",
     "text": [
      "<class 'pandas.core.frame.DataFrame'>\n",
      "RangeIndex: 1450 entries, 0 to 1449\n",
      "Data columns (total 12 columns):\n",
      " #   Column        Non-Null Count  Dtype \n",
      "---  ------        --------------  ----- \n",
      " 0   show_id       1450 non-null   object\n",
      " 1   type          1450 non-null   object\n",
      " 2   title         1450 non-null   object\n",
      " 3   director      977 non-null    object\n",
      " 4   cast          1260 non-null   object\n",
      " 5   country       1231 non-null   object\n",
      " 6   date_added    1447 non-null   object\n",
      " 7   release_year  1450 non-null   int64 \n",
      " 8   rating        1447 non-null   object\n",
      " 9   duration      1450 non-null   object\n",
      " 10  listed_in     1450 non-null   object\n",
      " 11  description   1450 non-null   object\n",
      "dtypes: int64(1), object(11)\n",
      "memory usage: 136.1+ KB\n"
     ]
    }
   ],
   "source": [
    "df.info()"
   ]
  },
  {
   "cell_type": "markdown",
   "id": "2c261331-01d3-41b1-8773-77e9ae730c3a",
   "metadata": {},
   "source": [
    "## Missing Value "
   ]
  },
  {
   "cell_type": "markdown",
   "id": "18445e7f-ad63-4e0d-94d7-181591c8653e",
   "metadata": {},
   "source": [
    "### Mencari Missing Value "
   ]
  },
  {
   "cell_type": "code",
   "execution_count": 10,
   "id": "2b90e740-c861-45e3-8665-fe2a0282dccf",
   "metadata": {
    "tags": []
   },
   "outputs": [
    {
     "data": {
      "text/plain": [
       "show_id           0\n",
       "type              0\n",
       "title             0\n",
       "director        473\n",
       "cast            190\n",
       "country         219\n",
       "date_added        3\n",
       "release_year      0\n",
       "rating            3\n",
       "duration          0\n",
       "listed_in         0\n",
       "description       0\n",
       "dtype: int64"
      ]
     },
     "execution_count": 10,
     "metadata": {},
     "output_type": "execute_result"
    }
   ],
   "source": [
    "np.sum(df.isnull())"
   ]
  },
  {
   "cell_type": "raw",
   "id": "d034f587-8cf2-418b-962c-1da2f9d28a9e",
   "metadata": {},
   "source": [
    "Kode diatas berguna untuk menghitung total dari nilai yang hilang dalam DataFrame 'df' "
   ]
  },
  {
   "cell_type": "markdown",
   "id": "c121f097-14e8-45a3-a799-0de24f9d81eb",
   "metadata": {},
   "source": [
    "### Mengatasi Missing Value"
   ]
  },
  {
   "cell_type": "code",
   "execution_count": 11,
   "id": "12a032f8-9208-487b-9e7d-149137c8a8f0",
   "metadata": {
    "tags": []
   },
   "outputs": [],
   "source": [
    "df['director'].fillna(\"Never-worked\", inplace=True)\n",
    "df['cast'].fillna(\"None\", inplace=True)\n",
    "df['country'].fillna(\" None\", inplace=True)\n",
    "df['date_added'].fillna(\" None\", inplace=True)\n",
    "df['rating'].fillna(\" None\", inplace=True)"
   ]
  },
  {
   "cell_type": "raw",
   "id": "fe7bf868-a000-408e-9b10-0fdaa27c0eba",
   "metadata": {},
   "source": [
    "Pada kode 'df['director'].fillna(\"Never-worked\", inplace=True)' baris itu mengisi nilai yang hilang di kolom 'director' dengan string 'Never-worked'. Sedangkan untuk parameter 'inplace = True' artinya DataFrame di modifikasi langsung. Sementara itu yang lain yaitu df['cast'].fillna(\"None\", inplace=True)\n",
    "df['country'].fillna(\" None\", inplace=True)\n",
    "df['date_added'].fillna(\" None\", inplace=True)\n",
    "df['rating'].fillna(\" None\", inplace=True) keempat baris diatas akan mengisi nilai kosong dengan string \"None\" yang berarti jika yang tidak mempunyai variabel itu maka akan diisi dengan \"None\"."
   ]
  },
  {
   "cell_type": "code",
   "execution_count": 7,
   "id": "119c9bbc-4db4-41d2-8a4e-5aa0ab9bb01e",
   "metadata": {
    "tags": []
   },
   "outputs": [
    {
     "data": {
      "text/plain": [
       "show_id         0\n",
       "type            0\n",
       "title           0\n",
       "director        0\n",
       "cast            0\n",
       "country         0\n",
       "date_added      0\n",
       "release_year    0\n",
       "rating          0\n",
       "duration        0\n",
       "listed_in       0\n",
       "description     0\n",
       "dtype: int64"
      ]
     },
     "execution_count": 7,
     "metadata": {},
     "output_type": "execute_result"
    }
   ],
   "source": [
    "np.sum(df.isnull())"
   ]
  },
  {
   "cell_type": "raw",
   "id": "32df4ec2-7628-4590-bd7f-8ae277008d68",
   "metadata": {},
   "source": [
    "Kode tersebut mempunyai fungsi untuk menghitung jumlah dari nilai True lalu mengembalikan nilai yang kosong di dataframe."
   ]
  },
  {
   "cell_type": "markdown",
   "id": "9c2a9a0c-10ac-4b17-973b-f4fbd13a7234",
   "metadata": {},
   "source": [
    "## Outlier "
   ]
  },
  {
   "cell_type": "markdown",
   "id": "b2ea8d83-63b8-461e-a93b-c75cfce36ae8",
   "metadata": {
    "tags": []
   },
   "source": [
    "### Mendeteksi Outlier"
   ]
  },
  {
   "cell_type": "code",
   "execution_count": 6,
   "id": "945582e2-af50-4c23-bd61-a2a2c2fbc709",
   "metadata": {
    "tags": []
   },
   "outputs": [
    {
     "name": "stdout",
     "output_type": "stream",
     "text": [
      "\n",
      "Mendeteksi outliers pada kolom: release_year\n",
      "Batas Bawah: 1970.5, Batas Atas: 2046.5\n",
      "Jumlah outliers di kolom release_year: 158\n",
      "      release_year\n",
      "198           1967\n",
      "239           1956\n",
      "270           1959\n",
      "419           1952\n",
      "466           1955\n",
      "...            ...\n",
      "1419          1963\n",
      "1430          1968\n",
      "1431          1938\n",
      "1437          1963\n",
      "1438          1965\n",
      "\n",
      "[158 rows x 1 columns]\n"
     ]
    },
    {
     "data": {
      "image/png": "[encoded data removed]",
      "text/plain": [
       "<Figure size 800x600 with 1 Axes>"
      ]
     },
     "metadata": {},
     "output_type": "display_data"
    }
   ],
   "source": [
    "# Memilih hanya kolom numerik\n",
    "numerical_columns = df.select_dtypes(include=['float64', 'int64']).columns\n",
    "\n",
    "# Loop untuk mendeteksi outliers di setiap kolom numerik\n",
    "for col in numerical_columns:\n",
    "    print(f\"\\nMendeteksi outliers pada kolom: {col}\")\n",
    "    \n",
    "    # Menghitung IQR dan batas bawah/atas\n",
    "    Q1 = df[col].quantile(0.25)\n",
    "    Q3 = df[col].quantile(0.75)\n",
    "    IQR = Q3 - Q1\n",
    "    batas_bawah = Q1 - 1.5 * IQR\n",
    "    batas_atas = Q3 + 1.5 * IQR\n",
    "    \n",
    "    # Mendeteksi outliers\n",
    "    outliers = df[(df[col] < batas_bawah) | (df[col] > batas_atas)]\n",
    "    \n",
    "    # Menampilkan batas bawah dan batas atas\n",
    "    print(f\"Batas Bawah: {batas_bawah}, Batas Atas: {batas_atas}\")\n",
    "    \n",
    "    # Menampilkan jumlah outliers\n",
    "    print(f\"Jumlah outliers di kolom {col}: {outliers.shape[0]}\")\n",
    "    \n",
    "    # Menampilkan outliers secara lengkap (opsional)\n",
    "    if not outliers.empty:\n",
    "        print(outliers[[col]])\n",
    "    \n",
    "    # Visualisasi boxplot untuk mendeteksi outliers\n",
    "    plt.figure(figsize=(8, 6))\n",
    "    sns.boxplot(x=df[col])\n",
    "    plt.title(f'Boxplot {col} - Deteksi Outliers')\n",
    "    plt.xlabel(col)\n",
    "    plt.show()"
   ]
  },
  {
   "cell_type": "raw",
   "id": "cd2a0dac-2974-4591-93ef-c86d1e508a5d",
   "metadata": {},
   "source": [
    "Di dalam mendekteksi outlier dibagi menjadi beberapa step yaitu pertama ada hanya memilih kolom numerik yang bertipe data float 64 atau int 64. Kedua, Loop yang berguna untuk mendeteksi setiap kolom numerik. Selanjutnya, step ketiga yaitu mendeteksi outliers setiap kolom. Jadi menghitung Q1 dan Q3 dari range (IQR). Lalu, menghitung batas bawah dan batas atas dengan 'batas_bawah = Q1 - 1.5 * IQR' sementara 'batas_atas = Q3 + 1.5 * IQR'. Setelahnya langsung mendeteksi outlier dengan memilih nilai yang ada di luar batas bawah dan atas. Step Keempat yaitu menampilkan hasil batas bawah, batas atas, jumlah outlier setiap kolom, dan menampilkan outlier secara lengkap jika ada.\n",
    "Terakhir, Visualisasi Boxplot digunakan untuk mendeteksi outlier (data yang jauh berbeda dari nilai mayoritas)."
   ]
  },
  {
   "cell_type": "markdown",
   "id": "efe06c51-6d95-46ae-8530-d49959cdf258",
   "metadata": {},
   "source": [
    "### Mengatasi Outlier"
   ]
  },
  {
   "cell_type": "code",
   "execution_count": 9,
   "id": "905db516-cfbb-4a30-b873-fa4bafd3a050",
   "metadata": {
    "tags": []
   },
   "outputs": [
    {
     "name": "stdout",
     "output_type": "stream",
     "text": [
      "     show_id     type                                             title  \\\n",
      "0         s1    Movie  Duck the Halls: A Mickey Mouse Christmas Special   \n",
      "1         s2    Movie                            Ernest Saves Christmas   \n",
      "2         s3    Movie                      Ice Age: A Mammoth Christmas   \n",
      "3         s4    Movie                        The Queen Family Singalong   \n",
      "4         s5  TV Show                             The Beatles: Get Back   \n",
      "...      ...      ...                                               ...   \n",
      "1445   s1446    Movie                          X-Men Origins: Wolverine   \n",
      "1446   s1447    Movie    Night at the Museum: Battle of the Smithsonian   \n",
      "1447   s1448    Movie                                   Eddie the Eagle   \n",
      "1448   s1449    Movie                              Bend It Like Beckham   \n",
      "1449   s1450    Movie             Captain Sparky vs. The Flying Saucers   \n",
      "\n",
      "                               director  \\\n",
      "0     Alonso Ramirez Ramos, Dave Wasson   \n",
      "1                           John Cherry   \n",
      "2                          Karen Disher   \n",
      "3                       Hamish Hamilton   \n",
      "4                          Never-worked   \n",
      "...                                 ...   \n",
      "1445                         Gavin Hood   \n",
      "1446                         Shawn Levy   \n",
      "1447                    Dexter Fletcher   \n",
      "1448                    Gurinder Chadha   \n",
      "1449                        Mark Waring   \n",
      "\n",
      "                                                   cast  \\\n",
      "0     Chris Diamantopoulos, Tony Anselmo, Tress MacN...   \n",
      "1              Jim Varney, Noelle Parker, Douglas Seale   \n",
      "2     Raymond Albert Romano, John Leguizamo, Denis L...   \n",
      "3     Darren Criss, Adam Lambert, Derek Hough, Alexa...   \n",
      "4     John Lennon, Paul McCartney, George Harrison, ...   \n",
      "...                                                 ...   \n",
      "1445  Hugh Jackman, Liev Schreiber, Danny Huston, wi...   \n",
      "1446  Ben Stiller, Amy Adams, Owen Wilson, Hank Azar...   \n",
      "1447  Tom Costello, Jo Hartley, Keith Allen, Dickon ...   \n",
      "1448  Parminder Nagra, Keira Knightley, Jonathan Rhy...   \n",
      "1449                                      Charlie Tahan   \n",
      "\n",
      "                                     country date_added  release_year rating  \\\n",
      "0                                       None  26-Nov-21          2016   TV-G   \n",
      "1                                       None  26-Nov-21          1988     PG   \n",
      "2                              United States  26-Nov-21          2011   TV-G   \n",
      "3                                       None  26-Nov-21          2021  TV-PG   \n",
      "4                                       None  25-Nov-21          2021   None   \n",
      "...                                      ...        ...           ...    ...   \n",
      "1445           United States, United Kingdom   4-Jun-21          2009  PG-13   \n",
      "1446                   United States, Canada   2-Apr-21          2009     PG   \n",
      "1447  United Kingdom, Germany, United States  18-Dec-20          2016  PG-13   \n",
      "1448  United Kingdom, Germany, United States  18-Sep-20          2003  PG-13   \n",
      "1449                           United States   1-Apr-20          2012   TV-G   \n",
      "\n",
      "      duration                                      listed_in  \\\n",
      "0       23 min                              Animation, Family   \n",
      "1       91 min                                         Comedy   \n",
      "2       23 min                      Animation, Comedy, Family   \n",
      "3       41 min                                        Musical   \n",
      "4     1 Season                  Docuseries, Historical, Music   \n",
      "...        ...                                            ...   \n",
      "1445   108 min      Action-Adventure, Family, Science Fiction   \n",
      "1446   106 min               Action-Adventure, Comedy, Family   \n",
      "1447   107 min                    Biographical, Comedy, Drama   \n",
      "1448   112 min                   Buddy, Comedy, Coming of Age   \n",
      "1449     2 min  Action-Adventure, Animals & Nature, Animation   \n",
      "\n",
      "                                            description  \n",
      "0      Join Mickey and the gang as they duck the halls!  \n",
      "1     Santa Claus passes his magic bag to a new St. ...  \n",
      "2             Sid the Sloth is on Santa's naughty list.  \n",
      "3                  This is real life, not just fantasy!  \n",
      "4     A three-part documentary from Peter Jackson ca...  \n",
      "...                                                 ...  \n",
      "1445  Wolverine unites with legendary X-Men to fight...  \n",
      "1446  Larry Daley returns to rescue some old friends...  \n",
      "1447  True story of Eddie Edwards, a British ski-jum...  \n",
      "1448  Despite the wishes of their traditional famili...  \n",
      "1449         View one of Sparky's favorite home movies.  \n",
      "\n",
      "[1450 rows x 12 columns]\n"
     ]
    }
   ],
   "source": [
    "# Menghitung median release_year\n",
    "median = df['release_year'].median()\n",
    "\n",
    "# Mengganti outliers dengan median\n",
    "df.loc[(df['release_year'] < batas_bawah) | (df['release_year'] > batas_atas), 'release_year'] = median\n",
    "\n",
    "# Menampilkan data setelah penanganan outliers\n",
    "print(df)"
   ]
  },
  {
   "cell_type": "raw",
   "id": "42e263cc-772e-484d-9618-f10e1b137875",
   "metadata": {},
   "source": [
    "Untuk mengatasi outlier hal pertama yang dilakukan adalah menghitung median. Lalu, setelah hasil dari median sudah diketahui, outlier diganti dengan median. Nilai outlier itu yang lebih kecil dari batas bawah atau lebih besar dari batas atas yang telah dihitung sebelumnya. Terakhir, memenampilkan dataframe df setelah nilai outliers telah diganti dengan median."
   ]
  },
  {
   "cell_type": "markdown",
   "id": "0c3cd484-234d-48cb-ae77-4eeae3a1592d",
   "metadata": {},
   "source": [
    "## Transformasi Data "
   ]
  },
  {
   "cell_type": "markdown",
   "id": "9a39a3fc-6577-4f27-942b-4798d123483d",
   "metadata": {},
   "source": [
    "### Melakukan Transformasi Data dengan Normalisasi"
   ]
  },
  {
   "cell_type": "code",
   "execution_count": 10,
   "id": "72a15c5b-e58e-4ead-b782-7bbdda9200ec",
   "metadata": {
    "tags": []
   },
   "outputs": [
    {
     "name": "stdout",
     "output_type": "stream",
     "text": [
      "0       0.90\n",
      "1       0.34\n",
      "2       0.80\n",
      "3       1.00\n",
      "4       1.00\n",
      "        ... \n",
      "1445    0.76\n",
      "1446    0.76\n",
      "1447    0.90\n",
      "1448    0.64\n",
      "1449    0.82\n",
      "Name: release_year_scaled, Length: 1450, dtype: float64\n"
     ]
    }
   ],
   "source": [
    "scaler = MinMaxScaler()\n",
    "df['release_year_scaled'] = scaler.fit_transform(df[['release_year']])\n",
    "\n",
    "print(df['release_year_scaled'])"
   ]
  },
  {
   "cell_type": "raw",
   "id": "87228f64-f0c6-4134-8e44-7ee917cfc6d9",
   "metadata": {},
   "source": [
    "Kode diatas berfungsi untuk meng-scalling data. Sehingga nilai dalam kolom ada di range tertentu, yaitu antara 0-1. Hal ini berguna untuk memudahkan analisis dan modeling pada data."
   ]
  },
  {
   "cell_type": "markdown",
   "id": "e2c8657a-2b7f-4dba-80c6-6e54c8def380",
   "metadata": {
    "tags": []
   },
   "source": [
    "### Visualisasi Data Sebelum dan Sesudah"
   ]
  },
  {
   "cell_type": "code",
   "execution_count": 11,
   "id": "25c654ec-c49c-4b7a-88df-3a025dd95dbd",
   "metadata": {
    "tags": []
   },
   "outputs": [
    {
     "data": {
      "image/png": "[encoded data removed]",
      "text/plain": [
       "<Figure size 1400x600 with 2 Axes>"
      ]
     },
     "metadata": {},
     "output_type": "display_data"
    }
   ],
   "source": [
    "plt.figure(figsize=(14, 6))\n",
    "\n",
    "# Visualisasi sebelum scaling\n",
    "plt.subplot(1, 2, 1)\n",
    "sns.histplot(df['release_year'], bins=30, kde=True, color='blue')\n",
    "plt.title('Sebelum Scaling - Tahun Rilis')\n",
    "\n",
    "# Visualisasi setelah scaling\n",
    "plt.subplot(1, 2, 2)\n",
    "sns.histplot(df['release_year_scaled'], bins=30, kde=True, color='green')\n",
    "plt.title('Setelah Scaling - Tahun Rilis')\n",
    "\n",
    "plt.tight_layout()\n",
    "plt.show()"
   ]
  },
  {
   "cell_type": "raw",
   "id": "5a1c3ce4-b70c-4d4e-a1ca-563a8be08830",
   "metadata": {},
   "source": [
    "Kode diatas berguna untuk membuat visualisasi histogram dari kolom 'release_year'. Disini kita akan membuat 2 subplot yaitu yang pertama adalah histogram sebelum scalling. Histogram ini mempunyai 30 bins dan menampilkan kernel density estimation (kde) dengan warna biru. Kedua, yaitu subplot dalam figure. Dalam subplot ini adalah histogram setelah scalling. Histogram ini mempunyai 30 bins dan menampilkan kernel density estimation (kde) dengan warna hijau. Terakhir, Visualisasi ditampilkan.  "
   ]
  },
  {
   "cell_type": "markdown",
   "id": "01df77a0-4981-463f-b04a-eea45b35bd90",
   "metadata": {},
   "source": [
    "### Hasil Akhir"
   ]
  },
  {
   "cell_type": "code",
   "execution_count": 12,
   "id": "9f028945-01c4-42d8-ba42-ae0ace0c9c7a",
   "metadata": {
    "tags": []
   },
   "outputs": [
    {
     "name": "stdout",
     "output_type": "stream",
     "text": [
      "  show_id     type                                             title  \\\n",
      "0      s1    Movie  Duck the Halls: A Mickey Mouse Christmas Special   \n",
      "1      s2    Movie                            Ernest Saves Christmas   \n",
      "2      s3    Movie                      Ice Age: A Mammoth Christmas   \n",
      "3      s4    Movie                        The Queen Family Singalong   \n",
      "4      s5  TV Show                             The Beatles: Get Back   \n",
      "\n",
      "                            director  \\\n",
      "0  Alonso Ramirez Ramos, Dave Wasson   \n",
      "1                        John Cherry   \n",
      "2                       Karen Disher   \n",
      "3                    Hamish Hamilton   \n",
      "4                       Never-worked   \n",
      "\n",
      "                                                cast        country  \\\n",
      "0  Chris Diamantopoulos, Tony Anselmo, Tress MacN...           None   \n",
      "1           Jim Varney, Noelle Parker, Douglas Seale           None   \n",
      "2  Raymond Albert Romano, John Leguizamo, Denis L...  United States   \n",
      "3  Darren Criss, Adam Lambert, Derek Hough, Alexa...           None   \n",
      "4  John Lennon, Paul McCartney, George Harrison, ...           None   \n",
      "\n",
      "  date_added  release_year rating  duration                      listed_in  \\\n",
      "0  26-Nov-21          2016   TV-G    23 min              Animation, Family   \n",
      "1  26-Nov-21          1988     PG    91 min                         Comedy   \n",
      "2  26-Nov-21          2011   TV-G    23 min      Animation, Comedy, Family   \n",
      "3  26-Nov-21          2021  TV-PG    41 min                        Musical   \n",
      "4  25-Nov-21          2021   None  1 Season  Docuseries, Historical, Music   \n",
      "\n",
      "                                         description  release_year_scaled  \n",
      "0   Join Mickey and the gang as they duck the halls!                 0.90  \n",
      "1  Santa Claus passes his magic bag to a new St. ...                 0.34  \n",
      "2          Sid the Sloth is on Santa's naughty list.                 0.80  \n",
      "3               This is real life, not just fantasy!                 1.00  \n",
      "4  A three-part documentary from Peter Jackson ca...                 1.00  \n"
     ]
    }
   ],
   "source": [
    "print(df.head())"
   ]
  },
  {
   "cell_type": "raw",
   "id": "298e7325-fd26-4377-8406-cd762abb6978",
   "metadata": {},
   "source": [
    "Kode tersebut menampilkan 5 baris pertama dari dataframe yang telah ditransformasi."
   ]
  }
 ],
 "metadata": {
  "kernelspec": {
   "display_name": "Python 3 (ipykernel)",
   "language": "python",
   "name": "python3"
  },
  "language_info": {
   "codemirror_mode": {
    "name": "ipython",
    "version": 3
   },
   "file_extension": ".py",
   "mimetype": "text/x-python",
   "name": "python",
   "nbconvert_exporter": "python",
   "pygments_lexer": "ipython3",
   "version": "3.11.4"
  }
 },
 "nbformat": 4,
 "nbformat_minor": 5
}
